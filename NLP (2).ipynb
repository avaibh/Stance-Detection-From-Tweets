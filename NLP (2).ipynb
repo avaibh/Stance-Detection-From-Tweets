{
 "cells": [
  {
   "cell_type": "code",
   "execution_count": 49,
   "metadata": {},
   "outputs": [],
   "source": [
    "import pandas as pd\n",
    "import numpy as np\n",
    "from sklearn.feature_extraction.text import CountVectorizer, TfidfVectorizer\n",
    "from sklearn.svm import SVC\n",
    "from sklearn.metrics import roc_auc_score\n",
    "from sklearn.linear_model import SGDClassifier\n",
    "from sklearn.naive_bayes import MultinomialNB\n",
    "from sklearn.model_selection import train_test_split\n",
    "from sklearn.pipeline import Pipeline\n",
    "from sklearn.linear_model import SGDClassifier\n",
    "from sklearn.feature_extraction.text import TfidfTransformer\n",
    "from sklearn.metrics import confusion_matrix"
   ]
  },
  {
   "cell_type": "code",
   "execution_count": 59,
   "metadata": {},
   "outputs": [],
   "source": [
    "# data = pd.read_csv(\"data.csv\", header = None, names = ['No.','Tweet','#Number', 'MedicalRelevance', 'X', 'Status','Unnamed'])\n",
    "data = pd.read_csv(\"data1.csv\", header = None, names = ['No.','Tweet','#Number', 'MedicalRelevance', 'X', 'Status','Unnamed'])"
   ]
  },
  {
   "cell_type": "code",
   "execution_count": 60,
   "metadata": {},
   "outputs": [
    {
     "data": {
      "text/html": [
       "<div>\n",
       "<style scoped>\n",
       "    .dataframe tbody tr th:only-of-type {\n",
       "        vertical-align: middle;\n",
       "    }\n",
       "\n",
       "    .dataframe tbody tr th {\n",
       "        vertical-align: top;\n",
       "    }\n",
       "\n",
       "    .dataframe thead th {\n",
       "        text-align: right;\n",
       "    }\n",
       "</style>\n",
       "<table border=\"1\" class=\"dataframe\">\n",
       "  <thead>\n",
       "    <tr style=\"text-align: right;\">\n",
       "      <th></th>\n",
       "      <th>No.</th>\n",
       "      <th>Tweet</th>\n",
       "      <th>#Number</th>\n",
       "      <th>MedicalRelevance</th>\n",
       "      <th>X</th>\n",
       "      <th>Status</th>\n",
       "      <th>Unnamed</th>\n",
       "    </tr>\n",
       "  </thead>\n",
       "  <tbody>\n",
       "    <tr>\n",
       "      <th>0</th>\n",
       "      <td>NaN</td>\n",
       "      <td>Tweet Text</td>\n",
       "      <td># number</td>\n",
       "      <td>Medical relevance</td>\n",
       "      <td>X</td>\n",
       "      <td>Does X cure cancer</td>\n",
       "      <td>Unnamed: 5</td>\n",
       "    </tr>\n",
       "    <tr>\n",
       "      <th>1</th>\n",
       "      <td>10.0</td>\n",
       "      <td>As people‰Û¡ÌÝåÁÌÎÌÌ´åÈs anger boils over in ...</td>\n",
       "      <td>343</td>\n",
       "      <td>yes</td>\n",
       "      <td>aspirin</td>\n",
       "      <td>no</td>\n",
       "      <td>NaN</td>\n",
       "    </tr>\n",
       "    <tr>\n",
       "      <th>2</th>\n",
       "      <td>14.0</td>\n",
       "      <td>Peacock tears get eggs. Eating Mangoes get bab...</td>\n",
       "      <td>246</td>\n",
       "      <td>yes</td>\n",
       "      <td>cow urine</td>\n",
       "      <td>no</td>\n",
       "      <td>similarly eita te Whatsapp University lekha. K...</td>\n",
       "    </tr>\n",
       "    <tr>\n",
       "      <th>3</th>\n",
       "      <td>22.0</td>\n",
       "      <td>Listen. An isotope of uranium ore called Actin...</td>\n",
       "      <td>160</td>\n",
       "      <td>yes</td>\n",
       "      <td>actinium -225</td>\n",
       "      <td>yes</td>\n",
       "      <td>NaN</td>\n",
       "    </tr>\n",
       "    <tr>\n",
       "      <th>4</th>\n",
       "      <td>24.0</td>\n",
       "      <td>Watching a 29 year old woman with stage 4 ovar...</td>\n",
       "      <td>137</td>\n",
       "      <td>yes</td>\n",
       "      <td>Gerson Therapy, MMS, Pharma Dr</td>\n",
       "      <td>yes</td>\n",
       "      <td>NaN</td>\n",
       "    </tr>\n",
       "  </tbody>\n",
       "</table>\n",
       "</div>"
      ],
      "text/plain": [
       "    No.                                              Tweet   #Number  \\\n",
       "0   NaN                                         Tweet Text  # number   \n",
       "1  10.0  As people‰Û¡ÌÝåÁÌÎÌÌ´åÈs anger boils over in ...       343   \n",
       "2  14.0  Peacock tears get eggs. Eating Mangoes get bab...       246   \n",
       "3  22.0  Listen. An isotope of uranium ore called Actin...       160   \n",
       "4  24.0  Watching a 29 year old woman with stage 4 ovar...       137   \n",
       "\n",
       "    MedicalRelevance                               X              Status  \\\n",
       "0  Medical relevance                               X  Does X cure cancer   \n",
       "1                yes                         aspirin                  no   \n",
       "2                yes                       cow urine                  no   \n",
       "3                yes                   actinium -225                 yes   \n",
       "4                yes  Gerson Therapy, MMS, Pharma Dr                 yes   \n",
       "\n",
       "                                             Unnamed  \n",
       "0                                         Unnamed: 5  \n",
       "1                                                NaN  \n",
       "2  similarly eita te Whatsapp University lekha. K...  \n",
       "3                                                NaN  \n",
       "4                                                NaN  "
      ]
     },
     "execution_count": 60,
     "metadata": {},
     "output_type": "execute_result"
    }
   ],
   "source": [
    "data.head()"
   ]
  },
  {
   "cell_type": "code",
   "execution_count": 61,
   "metadata": {},
   "outputs": [],
   "source": [
    "data.loc[data[\"Status\"]=='yes',\"Status\"] = 1\n",
    "data.loc[data[\"Status\"]=='no',\"Status\"] = 0\n",
    "\n",
    "data.loc[data[\"MedicalRelevance\"]=='yes',\"MedicalRelevance\"] = 1\n",
    "data.loc[data[\"MedicalRelevance\"]=='no',\"MedicalRelevance\"] = 0"
   ]
  },
  {
   "cell_type": "code",
   "execution_count": 62,
   "metadata": {},
   "outputs": [
    {
     "data": {
      "text/html": [
       "<div>\n",
       "<style scoped>\n",
       "    .dataframe tbody tr th:only-of-type {\n",
       "        vertical-align: middle;\n",
       "    }\n",
       "\n",
       "    .dataframe tbody tr th {\n",
       "        vertical-align: top;\n",
       "    }\n",
       "\n",
       "    .dataframe thead th {\n",
       "        text-align: right;\n",
       "    }\n",
       "</style>\n",
       "<table border=\"1\" class=\"dataframe\">\n",
       "  <thead>\n",
       "    <tr style=\"text-align: right;\">\n",
       "      <th></th>\n",
       "      <th>No.</th>\n",
       "      <th>Tweet</th>\n",
       "      <th>#Number</th>\n",
       "      <th>MedicalRelevance</th>\n",
       "      <th>X</th>\n",
       "      <th>Status</th>\n",
       "      <th>Unnamed</th>\n",
       "    </tr>\n",
       "  </thead>\n",
       "  <tbody>\n",
       "    <tr>\n",
       "      <th>1</th>\n",
       "      <td>10.0</td>\n",
       "      <td>As people‰Û¡ÌÝåÁÌÎÌÌ´åÈs anger boils over in ...</td>\n",
       "      <td>343</td>\n",
       "      <td>1</td>\n",
       "      <td>aspirin</td>\n",
       "      <td>0</td>\n",
       "      <td>NaN</td>\n",
       "    </tr>\n",
       "    <tr>\n",
       "      <th>2</th>\n",
       "      <td>14.0</td>\n",
       "      <td>Peacock tears get eggs. Eating Mangoes get bab...</td>\n",
       "      <td>246</td>\n",
       "      <td>1</td>\n",
       "      <td>cow urine</td>\n",
       "      <td>0</td>\n",
       "      <td>similarly eita te Whatsapp University lekha. K...</td>\n",
       "    </tr>\n",
       "    <tr>\n",
       "      <th>3</th>\n",
       "      <td>22.0</td>\n",
       "      <td>Listen. An isotope of uranium ore called Actin...</td>\n",
       "      <td>160</td>\n",
       "      <td>1</td>\n",
       "      <td>actinium -225</td>\n",
       "      <td>1</td>\n",
       "      <td>NaN</td>\n",
       "    </tr>\n",
       "    <tr>\n",
       "      <th>4</th>\n",
       "      <td>24.0</td>\n",
       "      <td>Watching a 29 year old woman with stage 4 ovar...</td>\n",
       "      <td>137</td>\n",
       "      <td>1</td>\n",
       "      <td>Gerson Therapy, MMS, Pharma Dr</td>\n",
       "      <td>1</td>\n",
       "      <td>NaN</td>\n",
       "    </tr>\n",
       "    <tr>\n",
       "      <th>5</th>\n",
       "      <td>26.0</td>\n",
       "      <td>@iamsonalibendre Hope you know there are very ...</td>\n",
       "      <td>133</td>\n",
       "      <td>1</td>\n",
       "      <td>urine therapy</td>\n",
       "      <td>0</td>\n",
       "      <td>NaN</td>\n",
       "    </tr>\n",
       "  </tbody>\n",
       "</table>\n",
       "</div>"
      ],
      "text/plain": [
       "    No.                                              Tweet #Number  \\\n",
       "1  10.0  As people‰Û¡ÌÝåÁÌÎÌÌ´åÈs anger boils over in ...     343   \n",
       "2  14.0  Peacock tears get eggs. Eating Mangoes get bab...     246   \n",
       "3  22.0  Listen. An isotope of uranium ore called Actin...     160   \n",
       "4  24.0  Watching a 29 year old woman with stage 4 ovar...     137   \n",
       "5  26.0  @iamsonalibendre Hope you know there are very ...     133   \n",
       "\n",
       "  MedicalRelevance                               X Status  \\\n",
       "1                1                         aspirin      0   \n",
       "2                1                       cow urine      0   \n",
       "3                1                   actinium -225      1   \n",
       "4                1  Gerson Therapy, MMS, Pharma Dr      1   \n",
       "5                1                   urine therapy      0   \n",
       "\n",
       "                                             Unnamed  \n",
       "1                                                NaN  \n",
       "2  similarly eita te Whatsapp University lekha. K...  \n",
       "3                                                NaN  \n",
       "4                                                NaN  \n",
       "5                                                NaN  "
      ]
     },
     "execution_count": 62,
     "metadata": {},
     "output_type": "execute_result"
    }
   ],
   "source": [
    "data = data[1:]\n",
    "data.head()"
   ]
  },
  {
   "cell_type": "code",
   "execution_count": 63,
   "metadata": {},
   "outputs": [],
   "source": [
    "data_x = data[\"Tweet\"]\n",
    "X = data[\"#Number\"]\n",
    "data_y = data[\"Status\"]\n",
    "data_mr_y = data[\"MedicalRelevance\"]"
   ]
  },
  {
   "cell_type": "code",
   "execution_count": 64,
   "metadata": {},
   "outputs": [],
   "source": [
    "tfidf = TfidfVectorizer(min_df = 1, stop_words = 'english')"
   ]
  },
  {
   "cell_type": "code",
   "execution_count": 69,
   "metadata": {},
   "outputs": [
    {
     "name": "stdout",
     "output_type": "stream",
     "text": [
      "[[3 4]\n",
      " [1 8]] \n",
      "\n",
      "\n",
      "[[ 5  8]\n",
      " [ 2 16]] \n",
      "\n",
      "\n",
      "[[ 9 13]\n",
      " [ 2 22]] \n",
      "\n",
      "\n",
      "[[12 17]\n",
      " [ 4 28]] \n",
      "\n",
      "\n",
      "[[14 23]\n",
      " [ 4 35]] \n",
      "\n",
      "\n",
      "[[14 29]\n",
      " [ 5 43]] \n",
      "\n",
      "\n",
      "[[16 35]\n",
      " [ 5 50]] \n",
      "\n",
      "\n",
      "[[18 39]\n",
      " [ 6 58]] \n",
      "\n",
      "\n",
      "[[19 45]\n",
      " [ 8 64]] \n",
      "\n",
      "\n",
      "[[20 53]\n",
      " [ 4 74]] \n",
      "\n",
      "\n",
      "[[24 53]\n",
      " [ 9 81]] \n",
      "\n",
      "\n",
      "[[22 61]\n",
      " [ 8 91]] \n",
      "\n",
      "\n",
      "[[ 19  71]\n",
      " [  4 103]] \n",
      "\n",
      "\n",
      "[[ 18  79]\n",
      " [  3 112]] \n",
      "\n",
      "\n",
      "[[ 24  77]\n",
      " [  6 120]] \n",
      "\n",
      "\n",
      "[[ 12  97]\n",
      " [  0 133]] \n",
      "\n",
      "\n",
      "[[ 13 102]\n",
      " [  1 141]] \n",
      "\n",
      "\n",
      "[[  9 112]\n",
      " [  0 151]] \n",
      "\n",
      "\n",
      "[[ 14 111]\n",
      " [  2 160]] \n",
      "\n",
      "\n"
     ]
    }
   ],
   "source": [
    "for i in range(1,20):\n",
    "    x_train, x_test, y_train, y_test = train_test_split(data_x, data_y,test_size = 0.05*i, random_state = 42 )\n",
    "#     x_train, x_test, y_train, y_test = train_test_split(data_x, data_mr_y,test_size = 0.05*i, random_state = 42 )\n",
    "    x_train_tfidf = tfidf.fit_transform(x_train)\n",
    "    mnb = MultinomialNB()\n",
    "    y_train = y_train.astype('int')\n",
    "    mnb.fit(x_train_tfidf, y_train)\n",
    "    x_test_tfidf = tfidf.transform(x_test)\n",
    "    pred = mnb.predict(x_test_tfidf)\n",
    "    actual = np.array(y_test)\n",
    "    count = 0\n",
    "    for i in range(len(pred)):\n",
    "        if pred[i]==actual[i]:\n",
    "            count = count +1\n",
    "    from sklearn.metrics import confusion_matrix\n",
    "    print (confusion_matrix(np.array(y_test).astype('int'), mnb.predict(x_test_tfidf)),\"\\n\\n\")\n",
    "#     print (confusion_matrix(np.array(y_train).astype('int'), mnb.predict(x_train_tfidf)),\"\\n\\n\")"
   ]
  },
  {
   "cell_type": "code",
   "execution_count": 64,
   "metadata": {},
   "outputs": [
    {
     "ename": "SyntaxError",
     "evalue": "unexpected EOF while parsing (<ipython-input-64-5606e2934ab9>, line 1)",
     "output_type": "error",
     "traceback": [
      "\u001b[0;36m  File \u001b[0;32m\"<ipython-input-64-5606e2934ab9>\"\u001b[0;36m, line \u001b[0;32m1\u001b[0m\n\u001b[0;31m    print (confusion_matrix(np.array(y_train), predicted_svm,\"\\n\\n\")\u001b[0m\n\u001b[0m                                                                    ^\u001b[0m\n\u001b[0;31mSyntaxError\u001b[0m\u001b[0;31m:\u001b[0m unexpected EOF while parsing\n"
     ]
    }
   ],
   "source": []
  },
  {
   "cell_type": "code",
   "execution_count": 17,
   "metadata": {},
   "outputs": [],
   "source": [
    "mnb = MultinomialNB()"
   ]
  },
  {
   "cell_type": "code",
   "execution_count": 18,
   "metadata": {},
   "outputs": [],
   "source": [
    "y_train = y_train.astype('int')"
   ]
  },
  {
   "cell_type": "code",
   "execution_count": 19,
   "metadata": {},
   "outputs": [
    {
     "data": {
      "text/plain": [
       "MultinomialNB(alpha=1.0, class_prior=None, fit_prior=True)"
      ]
     },
     "execution_count": 19,
     "metadata": {},
     "output_type": "execute_result"
    }
   ],
   "source": [
    "mnb.fit(x_train_tfidf, y_train)"
   ]
  },
  {
   "cell_type": "code",
   "execution_count": 20,
   "metadata": {},
   "outputs": [],
   "source": [
    "x_test_tfidf = tfidf.transform(x_test)"
   ]
  },
  {
   "cell_type": "code",
   "execution_count": 21,
   "metadata": {},
   "outputs": [],
   "source": [
    "pred = mnb.predict(x_test_tfidf)"
   ]
  },
  {
   "cell_type": "code",
   "execution_count": 22,
   "metadata": {},
   "outputs": [],
   "source": [
    "actual = np.array(y_test)"
   ]
  },
  {
   "cell_type": "code",
   "execution_count": 23,
   "metadata": {},
   "outputs": [],
   "source": [
    "count = 0\n",
    "for i in range(len(pred)):\n",
    "    if pred[i]==actual[i]:\n",
    "        count = count +1"
   ]
  },
  {
   "cell_type": "code",
   "execution_count": 24,
   "metadata": {},
   "outputs": [
    {
     "data": {
      "text/plain": [
       "0.930952380952381"
      ]
     },
     "execution_count": 24,
     "metadata": {},
     "output_type": "execute_result"
    }
   ],
   "source": [
    "count/len(pred)"
   ]
  },
  {
   "cell_type": "code",
   "execution_count": 25,
   "metadata": {},
   "outputs": [
    {
     "data": {
      "text/plain": [
       "391"
      ]
     },
     "execution_count": 25,
     "metadata": {},
     "output_type": "execute_result"
    }
   ],
   "source": [
    "count"
   ]
  },
  {
   "cell_type": "code",
   "execution_count": 27,
   "metadata": {},
   "outputs": [
    {
     "data": {
      "text/plain": [
       "1536"
      ]
     },
     "execution_count": 27,
     "metadata": {},
     "output_type": "execute_result"
    }
   ],
   "source": [
    "np.sum(y_train == 0)"
   ]
  },
  {
   "cell_type": "code",
   "execution_count": 28,
   "metadata": {},
   "outputs": [
    {
     "data": {
      "text/plain": [
       "143"
      ]
     },
     "execution_count": 28,
     "metadata": {},
     "output_type": "execute_result"
    }
   ],
   "source": [
    "np.sum(y_train == 1)"
   ]
  },
  {
   "cell_type": "code",
   "execution_count": 35,
   "metadata": {},
   "outputs": [
    {
     "data": {
      "text/plain": [
       "array([[1536,    0],\n",
       "       [ 135,    8]])"
      ]
     },
     "execution_count": 35,
     "metadata": {},
     "output_type": "execute_result"
    }
   ],
   "source": [
    "from sklearn.metrics import confusion_matrix\n",
    "confusion_matrix(np.array(y_train), mnb.predict(x_train_tfidf))"
   ]
  },
  {
   "cell_type": "code",
   "execution_count": 26,
   "metadata": {},
   "outputs": [
    {
     "name": "stderr",
     "output_type": "stream",
     "text": [
      "/Applications/anaconda3/lib/python3.6/site-packages/sklearn/linear_model/stochastic_gradient.py:117: DeprecationWarning: n_iter parameter is deprecated in 0.19 and will be removed in 0.21. Use max_iter and tol instead.\n",
      "  DeprecationWarning)\n"
     ]
    },
    {
     "data": {
      "text/plain": [
       "0.9333333333333333"
      ]
     },
     "execution_count": 26,
     "metadata": {},
     "output_type": "execute_result"
    }
   ],
   "source": [
    "# Training Support Vector Machines - SVM and calculating its performance\n",
    "\n",
    "#tfidf_transformer = TfidfTransformer()\n",
    "text_clf_svm = Pipeline([('vect', CountVectorizer()), ('tfidf', TfidfTransformer()),\n",
    "                         ('clf-svm', SGDClassifier(loss='hinge', penalty='l2',alpha=1e-3, n_iter=5, random_state=42))])\n",
    "\n",
    "text_clf_svm = text_clf_svm.fit(x_train, y_train)\n",
    "predicted_svm = text_clf_svm.predict(x_test)\n",
    "np.mean(predicted_svm == y_test)"
   ]
  },
  {
   "cell_type": "code",
   "execution_count": null,
   "metadata": {},
   "outputs": [],
   "source": []
  },
  {
   "cell_type": "code",
   "execution_count": null,
   "metadata": {},
   "outputs": [],
   "source": []
  },
  {
   "cell_type": "code",
   "execution_count": null,
   "metadata": {},
   "outputs": [],
   "source": []
  }
 ],
 "metadata": {
  "kernelspec": {
   "display_name": "Python 3",
   "language": "python",
   "name": "python3"
  },
  "language_info": {
   "codemirror_mode": {
    "name": "ipython",
    "version": 3
   },
   "file_extension": ".py",
   "mimetype": "text/x-python",
   "name": "python",
   "nbconvert_exporter": "python",
   "pygments_lexer": "ipython3",
   "version": "3.6.5"
  }
 },
 "nbformat": 4,
 "nbformat_minor": 2
}
